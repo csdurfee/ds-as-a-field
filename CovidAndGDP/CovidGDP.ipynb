{
 "cells": [
  {
   "cell_type": "code",
   "execution_count": 2,
   "metadata": {},
   "outputs": [
    {
     "name": "stderr",
     "output_type": "stream",
     "text": [
      "── \u001b[1mAttaching packages\u001b[22m ─────────────────────────────────────── tidyverse 1.3.1 ──\n",
      "\n",
      "\u001b[32m✔\u001b[39m \u001b[34mggplot2\u001b[39m 3.3.5     \u001b[32m✔\u001b[39m \u001b[34mpurrr  \u001b[39m 0.3.4\n",
      "\u001b[32m✔\u001b[39m \u001b[34mtibble \u001b[39m 3.1.6     \u001b[32m✔\u001b[39m \u001b[34mdplyr  \u001b[39m 1.0.7\n",
      "\u001b[32m✔\u001b[39m \u001b[34mtidyr  \u001b[39m 1.1.4     \u001b[32m✔\u001b[39m \u001b[34mstringr\u001b[39m 1.4.0\n",
      "\u001b[32m✔\u001b[39m \u001b[34mreadr  \u001b[39m 2.1.1     \u001b[32m✔\u001b[39m \u001b[34mforcats\u001b[39m 0.5.1\n",
      "\n",
      "── \u001b[1mConflicts\u001b[22m ────────────────────────────────────────── tidyverse_conflicts() ──\n",
      "\u001b[31m✖\u001b[39m \u001b[34mdplyr\u001b[39m::\u001b[32mfilter()\u001b[39m masks \u001b[34mstats\u001b[39m::filter()\n",
      "\u001b[31m✖\u001b[39m \u001b[34mdplyr\u001b[39m::\u001b[32mlag()\u001b[39m    masks \u001b[34mstats\u001b[39m::lag()\n",
      "\n",
      "\n",
      "Attaching package: ‘rvest’\n",
      "\n",
      "\n",
      "The following object is masked from ‘package:readr’:\n",
      "\n",
      "    guess_encoding\n",
      "\n",
      "\n"
     ]
    }
   ],
   "source": [
    "library(tidyverse)\n",
    "library(rvest)\n",
    "\n",
    "covid_url <- \"https://raw.githubusercontent.com/CSSEGISandData/COVID-19/master/csse_covid_19_data/csse_covid_19_time_series/time_series_covid19_deaths_US.csv\"\n",
    "\n",
    "deaths_by_county <- read_csv(covid_url, show_col_types = FALSE) %>%\n",
    "      mutate(CountyState = paste(Admin2, Province_State, sep = ', ')) %>%\n",
    "      rename(\"Deaths\" = \"12/31/21\") %>%\n",
    "      select(CountyState, Deaths) \n",
    "\n",
    "gdp_table <- read_html(\"https://en.wikipedia.org/wiki/List_of_United_States_counties_by_per_capita_income\") %>%\n",
    "        html_element(xpath = \"//table[3]\") %>%\n",
    "        html_table()\n",
    "\n",
    "colnames(gdp_table) <- c(\"Rank\", \"County\", \"State\",\n",
    "        \"PerCapitaIncome\", \"MedianHousehold\", \"MedianFamily\", \"Population\", \"NumHouseholds\")\n",
    "\n",
    "gdp_table <- gdp_table %>%\n",
    "              filter(Rank != \"—\") %>%\n",
    "              mutate(CountyState = paste(str_trim(County), State, sep = ', '),\n",
    "                    PerCapitaIncome = parse_number(PerCapitaIncome),\n",
    "                    MedianHousehold = parse_number(MedianHousehold),\n",
    "                    MedianFamily = parse_number(MedianFamily),\n",
    "                    Population = parse_number(Population),\n",
    "                    NumHouseholds = parse_number(NumHouseholds),\n",
    "                    Rank = parse_number(Rank)\n",
    "              )"
   ]
  },
  {
   "cell_type": "code",
   "execution_count": null,
   "metadata": {},
   "outputs": [],
   "source": [
    "merged <- left_join(deaths_by_county, gdp_table, by = c(\"CountyState\" = \"CountyState\")) %>%\n",
    "        mutate(PerCapitaDeaths = Deaths / Population)\n",
    "\n",
    "head(merged)"
   ]
  },
  {
   "cell_type": "code",
   "execution_count": null,
   "metadata": {},
   "outputs": [],
   "source": [
    "mg <- merged %>% filter(is.na(PerCapitaDeaths))\n",
    "\n",
    "\n"
   ]
  }
 ],
 "metadata": {
  "kernelspec": {
   "display_name": "R",
   "language": "R",
   "name": "ir"
  },
  "language_info": {
   "codemirror_mode": "r",
   "file_extension": ".r",
   "mimetype": "text/x-r-source",
   "name": "R",
   "pygments_lexer": "r",
   "version": "4.1.1"
  },
  "orig_nbformat": 4
 },
 "nbformat": 4,
 "nbformat_minor": 2
}
